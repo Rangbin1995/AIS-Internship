{
 "cells": [
  {
   "cell_type": "code",
   "execution_count": 30,
   "metadata": {},
   "outputs": [],
   "source": [
    "import requests\n",
    "import json\n",
    "import pandas as pd\n",
    "\n",
    "# Find all pages id from 25 pages with each page contains 25 lawyer information\n",
    "all_pages = []\n",
    "all_ids = []\n",
    "\n",
    "url = \"https://az-ae-app-fal-prod-webservice.azurewebsites.net/api/lawyer/\"\n",
    "for i in range(1,10000):\n",
    "    pages = requests.post(url,json={\"lastName\":\"\",\"otherName\":\"\",\"suburb\":\"\",\"region\":\"\",\"accreditedSpecialist\":\"\",\"page\":i,\"pageSize\":100})\n",
    "    pages_data = pages.json()['results']\n",
    "    if len(pages_data) == 0:     \n",
    "        break\n",
    "    for id in range(len(pages_data)):\n",
    "        all_ids.append(pages_data[id]['id'])\n",
    "    \n",
    "all_unique_ids = list(set(all_ids))"
   ]
  },
  {
   "cell_type": "code",
   "execution_count": 35,
   "metadata": {},
   "outputs": [],
   "source": [
    "all_jsons = []\n",
    "for i in range(len(all_unique_ids)):\n",
    "    url = f\"https://az-ae-app-fal-prod-webservice.azurewebsites.net/api/lawyer/{all_ids[i]}\"\n",
    "    response = requests.get(url)\n",
    "    all_jsons.append(response.json())"
   ]
  },
  {
   "cell_type": "code",
   "execution_count": 95,
   "metadata": {},
   "outputs": [],
   "source": [
    "firm_name = []\n",
    "firm_phone = []\n",
    "firm_fax = []\n",
    "firm_languages = []\n",
    "firm_region = []\n",
    "firm_email = []\n",
    "\n",
    "for i in range(len(all_unique_ids)):\n",
    "    try:\n",
    "        firm_name.append(all_jsons[i]['firstName'] + ' ' + all_jsons[i]['middleName'] + ' ' + all_jsons[i]['lastName'])\n",
    "        firm_phone.append(all_jsons[i]['firmPhone'])\n",
    "        firm_fax.append(all_jsons[i]['firmFax'])\n",
    "        firm_email.append(all_jsons[i]['firmEmail'])\n",
    "        firm_languages.append(all_jsons[i]['languages'])\n",
    "        if all_jsons[i]['streetAddress'] is None:\n",
    "            firm_region.append('')\n",
    "        else:\n",
    "            firm_region.append(all_jsons[i]['streetAddress']['suburb'])\n",
    "        \n",
    "    except TypeError:\n",
    "        pass"
   ]
  },
  {
   "cell_type": "code",
   "execution_count": 98,
   "metadata": {},
   "outputs": [],
   "source": [
    "data = {\n",
    "    'Firm Name': firm_name,\n",
    "    'Firm Email': firm_email,\n",
    "    'Firm Phone': firm_phone,\n",
    "    'Firm Fax': firm_fax,\n",
    "    'Firm Region': firm_region,\n",
    "    'Firm Languages': firm_languages\n",
    "}\n",
    "\n",
    "final_csv = pd.DataFrame(data)"
   ]
  },
  {
   "cell_type": "code",
   "execution_count": 99,
   "metadata": {},
   "outputs": [],
   "source": [
    "for i in range(len(final_csv['Firm Languages'])):\n",
    "    if final_csv['Firm Languages'][i] is None:\n",
    "        final_csv['Firm Languages'][i] = []\n",
    "        \n",
    "for i in range(len(final_csv)):\n",
    "    if len(final_csv['Firm Languages'][i]) != 0:\n",
    "        final_csv['Firm Languages'][i] = ', '.join([str(_) for _ in final_csv['Firm Languages'][i]])\n",
    "        \n",
    "    else:\n",
    "        final_csv['Firm Languages'][i] = ''"
   ]
  },
  {
   "cell_type": "code",
   "execution_count": 101,
   "metadata": {},
   "outputs": [],
   "source": [
    "final_csv.drop_duplicates().to_csv('NSW Law Firms.csv', index=False)"
   ]
  }
 ],
 "metadata": {
  "kernelspec": {
   "display_name": "Python 3",
   "language": "python",
   "name": "python3"
  },
  "language_info": {
   "codemirror_mode": {
    "name": "ipython",
    "version": 3
   },
   "file_extension": ".py",
   "mimetype": "text/x-python",
   "name": "python",
   "nbconvert_exporter": "python",
   "pygments_lexer": "ipython3",
   "version": "3.7.4"
  }
 },
 "nbformat": 4,
 "nbformat_minor": 2
}
