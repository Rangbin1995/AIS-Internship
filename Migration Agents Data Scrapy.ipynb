{
 "cells": [
  {
   "cell_type": "code",
   "execution_count": null,
   "metadata": {},
   "outputs": [],
   "source": [
    "import requests\n",
    "import json\n",
    "import pandas as pd\n",
    "from bs4 import BeautifulSoup\n",
    "import lxml\n",
    "import re\n",
    "\n",
    "# Get all jsons\n",
    "all_pages = []\n",
    "all_ids = []\n",
    "\n",
    "url = \"https://www.mara.gov.au/api/agentsearch?DelimitedStartWithLetterFilter%5BFieldName%5D=Name.FamilyName&DelimitedStartWithLetterFilter%5BLetterString%5D=&DelimitedStartWithLetterFilter%5BLabel%5D=Show+All&DelimitedStartWithLetterFilter%5BIsSelected%5D=false&DelimitedStartWithLetterFilter%5BContainsData%5D=true&Keyword=&Location=Australia&BusinessName=&IsNoFee=&IsPractitioner=&AgentFamilyName=&AgentGivenName=&AgentName=&AgentMARN=&SortInfo%5BSortField%5D=&SortInfo%5BIsAscending%5D=false&PagingInfo%5BPageIndex%5D=0&PagingInfo%5BPageSize%5D=8915\"\n",
    "\n",
    "pages = requests.get(url)\n",
    "response = pages.json()['Result']"
   ]
  },
  {
   "cell_type": "code",
   "execution_count": null,
   "metadata": {},
   "outputs": [],
   "source": [
    "# Distract all unique ids from json files\n",
    "\n",
    "contact_ids = []\n",
    "for i in range(len(response)):\n",
    "    contact_ids.append(response[i]['ContactId'])\n",
    "contact_ids = list(set(contact_ids))"
   ]
  },
  {
   "cell_type": "code",
   "execution_count": null,
   "metadata": {},
   "outputs": [],
   "source": [
    "# Find all agent names\n",
    "# 如果要加入公司别的信息在这里加即可\n",
    "\n",
    "name_ids = []\n",
    "full_names = []\n",
    "for i in range(len(response)):\n",
    "    full_name = response[i]['Name']['FullName']\n",
    "    company_id = response[i]['ContactId']\n",
    "    full_names.append(full_name)\n",
    "    name_ids.append(company_id)"
   ]
  },
  {
   "cell_type": "code",
   "execution_count": null,
   "metadata": {},
   "outputs": [],
   "source": [
    "# Find all agent emails\n",
    "\n",
    "agent_ids = []\n",
    "agent_emails = []\n",
    "for index in range(len(contact_ids)):\n",
    "    url_1 = 'https://www.mara.gov.au/search-the-register-of-migration-agents/registered-migration-agent-details/?id='+contact_ids[index]\n",
    "    result =  requests.get(url_1)\n",
    "    soup = BeautifulSoup(result.content, 'lxml')\n",
    "    agent_email = soup.find_all('a',href = re.compile('@'))\n",
    "    if len(agent_email) == 0:\n",
    "        continue\n",
    "        \n",
    "    email = str(agent_email[0]).split('\"')[1].split('mailto:')[1]\n",
    "    agent_ids.append(contact_ids[index])\n",
    "    agent_emails.append(email)"
   ]
  },
  {
   "cell_type": "code",
   "execution_count": null,
   "metadata": {
    "scrolled": true
   },
   "outputs": [],
   "source": [
    "# Generate email form and name form\n",
    "\n",
    "data_1 = {\n",
    "    'id': agent_ids,\n",
    "    'email': agent_emails\n",
    "}\n",
    "\n",
    "data_2 = {\n",
    "    'id': name_ids,\n",
    "    'name': full_names\n",
    "}\n",
    "\n",
    "email_form = pd.DataFrame(data_1)\n",
    "name_form = pd.DataFrame(data_2)\n",
    "name_form.drop_duplicates(inplace = True)"
   ]
  },
  {
   "cell_type": "code",
   "execution_count": null,
   "metadata": {},
   "outputs": [],
   "source": [
    "# inner merge forms and output csv\n",
    "\n",
    "final_form = pd.merge(email_form, name_form, how='inner', on=['id'])\n",
    "final_form[['name','email']].to_csv('Emails of agents.csv', index=False)"
   ]
  }
 ],
 "metadata": {
  "kernelspec": {
   "display_name": "Python 3",
   "language": "python",
   "name": "python3"
  },
  "language_info": {
   "codemirror_mode": {
    "name": "ipython",
    "version": 3
   },
   "file_extension": ".py",
   "mimetype": "text/x-python",
   "name": "python",
   "nbconvert_exporter": "python",
   "pygments_lexer": "ipython3",
   "version": "3.7.4"
  }
 },
 "nbformat": 4,
 "nbformat_minor": 2
}
